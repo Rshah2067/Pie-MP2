{
 "cells": [
  {
   "cell_type": "code",
   "execution_count": 96,
   "id": "d5b2bfbf-2106-4254-b922-950def501683",
   "metadata": {
    "tags": []
   },
   "outputs": [],
   "source": [
    "import dash\n",
    "from dash import dcc, html\n",
    "from dash.dependencies import Input, Output\n",
    "import plotly.graph_objs as go\n",
    "from funcs import init_csv, update_csv, read_points\n",
    "\n",
    "import random\n",
    "\n",
    "# Initialize the Dash app\n",
    "app = dash.Dash(__name__)\n",
    "file_name = 'points.csv'\n",
    "wait = 3 # second of wait -- change to 0.1 when not testing\n",
    "\n",
    "# Layout of the app\n",
    "app.layout = html.Div([\n",
    "    dcc.Graph(id='live-update-graph'),\n",
    "    dcc.Interval(\n",
    "        id='interval-component',\n",
    "        interval=wait*1000,\n",
    "        n_intervals=0\n",
    "    ),\n",
    "    html.Button('Add Random Point', id='add-point-button', n_clicks=0)\n",
    "])\n",
    "\n",
    "# Callback to update the graph\n",
    "@app.callback(\n",
    "    Output('live-update-graph', 'figure'),\n",
    "    [Input('interval-component', 'n_intervals'),\n",
    "     Input('add-point-button', 'n_clicks')]\n",
    ")\n",
    "def update_graph(n_intervals, n_clicks):\n",
    "    # Add a random point when the button is clicked\n",
    "    if n_clicks > 0:\n",
    "        new_point = {\n",
    "            'x': random.randint(1, 10),\n",
    "            'y': random.randint(1, 10),\n",
    "            'z': random.randint(1, 10)\n",
    "        }\n",
    "        update_csv(file_name, [new_point])  # Update the CSV file\n",
    "\n",
    "    # Read points from the CSV for plotting\n",
    "    points = read_points(file_name)\n",
    "    x, y, z = zip(*points) if points else ([], [], [])\n",
    "\n",
    "    fig = go.Figure()\n",
    "    fig.add_trace(go.Scatter3d(x=x, y=y, z=z, mode='lines+markers', name='Points'))\n",
    "    fig.update_layout(title='-',\n",
    "                      scene=dict(\n",
    "                          xaxis_title='X',\n",
    "                          yaxis_title='Y',\n",
    "                          zaxis_title='Z'\n",
    "                      ))\n",
    "    return fig"
   ]
  },
  {
   "cell_type": "code",
   "execution_count": 98,
   "id": "dbbc920c-2e9e-4663-9b82-487530d9d43b",
   "metadata": {
    "tags": []
   },
   "outputs": [
    {
     "data": {
      "text/html": [
       "\n",
       "        <iframe\n",
       "            width=\"100%\"\n",
       "            height=\"650\"\n",
       "            src=\"http://127.0.0.1:8050/\"\n",
       "            frameborder=\"0\"\n",
       "            allowfullscreen\n",
       "            \n",
       "        ></iframe>\n",
       "        "
      ],
      "text/plain": [
       "<IPython.lib.display.IFrame at 0x16922a050>"
      ]
     },
     "metadata": {},
     "output_type": "display_data"
    }
   ],
   "source": [
    "if __name__ == '__main__':\n",
    "    init_csv(file_name)\n",
    "    app.run_server(debug=True)"
   ]
  },
  {
   "cell_type": "code",
   "execution_count": 108,
   "id": "2688a53e-2763-4dc4-9c31-bfa94f2069ac",
   "metadata": {},
   "outputs": [],
   "source": [
    "new_point = {\n",
    "            'x': random.randint(1, 10),\n",
    "            'y': random.randint(1, 10),\n",
    "            'z': random.randint(1, 10)\n",
    "        }\n",
    "update_csv(file_name, [new_point])\n",
    "\n",
    "# THICKNESS 1/8th inch -- (3.175 * 2) + 45.9  -- 52 mm\n",
    "# 153mm hieght\n",
    "\n",
    "# 142 - 10 - 47 mm\n",
    "# VERTICAL DISTANCE => 101 mm\n",
    "# HORIZONTAL DISTANCE => 85 mm"
   ]
  },
  {
   "cell_type": "code",
   "execution_count": null,
   "id": "bd104bbe-5b0a-4a4c-86b1-7eb9fe7ff429",
   "metadata": {},
   "outputs": [],
   "source": []
  }
 ],
 "metadata": {
  "kernelspec": {
   "display_name": "Python 3 (ipykernel)",
   "language": "python",
   "name": "python3"
  },
  "language_info": {
   "codemirror_mode": {
    "name": "ipython",
    "version": 3
   },
   "file_extension": ".py",
   "mimetype": "text/x-python",
   "name": "python",
   "nbconvert_exporter": "python",
   "pygments_lexer": "ipython3",
   "version": "3.11.7"
  }
 },
 "nbformat": 4,
 "nbformat_minor": 5
}
